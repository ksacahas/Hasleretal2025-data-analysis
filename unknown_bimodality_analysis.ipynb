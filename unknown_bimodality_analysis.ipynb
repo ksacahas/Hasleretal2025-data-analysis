{
 "cells": [
  {
   "cell_type": "markdown",
   "id": "f2d82a4f",
   "metadata": {},
   "source": [
    "# Imports"
   ]
  },
  {
   "cell_type": "code",
   "execution_count": null,
   "id": "81806efe",
   "metadata": {},
   "outputs": [],
   "source": [
    "import numpy as np\n",
    "import matplotlib.pyplot as plt\n",
    "import pandas as pd"
   ]
  },
  {
   "cell_type": "markdown",
   "id": "c22cb0bd",
   "metadata": {},
   "source": [
    "# Function definitions"
   ]
  },
  {
   "cell_type": "code",
   "execution_count": null,
   "id": "63717889",
   "metadata": {},
   "outputs": [],
   "source": [
    "def rose_diagram(angles, bin_width):\n",
    "    # Creates a histogram of concretion trends\n",
    "    # Inputs: \n",
    "    # angles = concretion trends in degrees, where north=0\n",
    "    # bin_width = angular width of the bins in degrees\n",
    "    # Outputs: \n",
    "    # theta_symmetrical = angles of the histogram bins\n",
    "    # hist_symmetrical = heights of the histogram bins\n",
    "\n",
    "    # Define the bins\n",
    "    bins = np.arange(-90, 91, bin_width)  # Bins of width 1 from -90 to 90\n",
    "\n",
    "    # Create the histogram\n",
    "    hist, edges = np.histogram(angles, bins=bins)\n",
    "\n",
    "    # Convert bin edges to radians for polar plot\n",
    "    theta_original = np.radians(edges[:-1])\n",
    "\n",
    "    # Duplicate the data for angles greater than 90 degrees and less than -90 degrees\n",
    "    theta_symmetrical = np.concatenate([theta_original, theta_original + np.pi])\n",
    "\n",
    "    # Duplicate the histogram values\n",
    "    hist_symmetrical = np.concatenate([hist, hist])\n",
    "    \n",
    "    return theta_symmetrical, hist_symmetrical\n",
    "\n",
    "def transform_angles(angles):\n",
    "    # Converts angles from [0, 180] to [-90, 90]\n",
    "    # Input: \n",
    "    # angles = angles to convert\n",
    "    # Output: \n",
    "    # converted angles\n",
    "    return (angles + 90) % 180 - 90"
   ]
  },
  {
   "cell_type": "markdown",
   "id": "2af77cef",
   "metadata": {},
   "source": [
    "# Import data"
   ]
  },
  {
   "cell_type": "markdown",
   "id": "ee5cfb34",
   "metadata": {},
   "source": [
    "Copy and paste the path to your data table here. \n",
    "Copy and paste the name of the column containing the trend data. "
   ]
  },
  {
   "cell_type": "code",
   "execution_count": null,
   "id": "0def846b",
   "metadata": {},
   "outputs": [],
   "source": [
    "data = pd.read_csv('data_file.csv')\n",
    "trend = data['Trend']"
   ]
  },
  {
   "cell_type": "code",
   "execution_count": null,
   "id": "e0f5cae0",
   "metadata": {},
   "outputs": [],
   "source": [
    "fig, ax = plt.subplots(1, 1, figsize=(5, 5), subplot_kw={'projection': 'polar'})\n",
    "\n",
    "if len(trend) > 0:\n",
    "    angles = transform_angles(trend)\n",
    "    theta, hist = rose_diagram(angles, 10)\n",
    "        \n",
    "    # Plot the bar\n",
    "    ax.bar(theta, hist, width=np.deg2rad(10), align='edge', color='black')\n",
    "    ax.text(0, ax.get_ylim()[1] * 1.05,\n",
    "            f\"N = {len(trend)}\", \n",
    "            ha='center', va='bottom', fontsize=16)\n",
    "\n",
    "    # Configure the polar plot\n",
    "    ax.set_xticks(np.linspace(0, 2 * np.pi, 36, endpoint=False))\n",
    "    ax.set_xticklabels([])\n",
    "    ax.set_theta_direction(-1)\n",
    "    ax.set_theta_offset(np.radians(90))\n",
    "    ax.set_yticks([])  \n",
    "\n",
    "# Adjust layout\n",
    "plt.tight_layout()\n",
    "plt.show()"
   ]
  }
 ],
 "metadata": {
  "kernelspec": {
   "display_name": "cigars",
   "language": "python",
   "name": "python3"
  },
  "language_info": {
   "codemirror_mode": {
    "name": "ipython",
    "version": 3
   },
   "file_extension": ".py",
   "mimetype": "text/x-python",
   "name": "python",
   "nbconvert_exporter": "python",
   "pygments_lexer": "ipython3",
   "version": "3.11.8"
  }
 },
 "nbformat": 4,
 "nbformat_minor": 5
}
